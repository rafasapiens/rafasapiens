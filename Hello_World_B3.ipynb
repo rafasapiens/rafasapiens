{
  "nbformat": 4,
  "nbformat_minor": 0,
  "metadata": {
    "colab": {
      "name": "Hello World B3.ipynb",
      "provenance": [],
      "authorship_tag": "ABX9TyPBVx+IKhGPBXbJZLRhsJ9r",
      "include_colab_link": true
    },
    "kernelspec": {
      "name": "python3",
      "display_name": "Python 3"
    },
    "language_info": {
      "name": "python"
    }
  },
  "cells": [
    {
      "cell_type": "markdown",
      "metadata": {
        "id": "view-in-github",
        "colab_type": "text"
      },
      "source": [
        "<a href=\"https://colab.research.google.com/github/rafasapiens/rafasapiens/blob/main/Hello_World_B3.ipynb\" target=\"_parent\"><img src=\"https://colab.research.google.com/assets/colab-badge.svg\" alt=\"Open In Colab\"/></a>"
      ]
    },
    {
      "cell_type": "code",
      "metadata": {
        "colab": {
          "base_uri": "https://localhost:8080/"
        },
        "id": "Fr2Q-5Ws3QTd",
        "outputId": "17627d20-158d-4a48-fbee-d48029e2671b"
      },
      "source": [
        "!pip install yfinance\n",
        "# Instale as outras bibliotecas caso não possua (pandas, numpy, matplotlib)\n",
        "# Exemplo de código para escrever Hello World B3!\n",
        "#\n",
        "print('\\n',10*' $_$')\n",
        "print(' '*15,'Hello world B3')\n",
        "import pandas as pd\n",
        "import numpy as np\n",
        "import matplotlib.pyplot as plt\n",
        "import pandas_datareader.data as web\n",
        "import yfinance as yf\n",
        "\n",
        "yf.pdr_override()\n",
        "\n",
        "ibov= web.get_data_yahoo('^BVSP')\n",
        "\n",
        "print(ibov)"
      ],
      "execution_count": 10,
      "outputs": [
        {
          "output_type": "stream",
          "name": "stdout",
          "text": [
            "Requirement already satisfied: yfinance in /usr/local/lib/python3.7/dist-packages (0.1.64)\n",
            "Requirement already satisfied: numpy>=1.15 in /usr/local/lib/python3.7/dist-packages (from yfinance) (1.19.5)\n",
            "Requirement already satisfied: lxml>=4.5.1 in /usr/local/lib/python3.7/dist-packages (from yfinance) (4.6.3)\n",
            "Requirement already satisfied: pandas>=0.24 in /usr/local/lib/python3.7/dist-packages (from yfinance) (1.1.5)\n",
            "Requirement already satisfied: requests>=2.20 in /usr/local/lib/python3.7/dist-packages (from yfinance) (2.23.0)\n",
            "Requirement already satisfied: multitasking>=0.0.7 in /usr/local/lib/python3.7/dist-packages (from yfinance) (0.0.9)\n",
            "Requirement already satisfied: pytz>=2017.2 in /usr/local/lib/python3.7/dist-packages (from pandas>=0.24->yfinance) (2018.9)\n",
            "Requirement already satisfied: python-dateutil>=2.7.3 in /usr/local/lib/python3.7/dist-packages (from pandas>=0.24->yfinance) (2.8.2)\n",
            "Requirement already satisfied: six>=1.5 in /usr/local/lib/python3.7/dist-packages (from python-dateutil>=2.7.3->pandas>=0.24->yfinance) (1.15.0)\n",
            "Requirement already satisfied: certifi>=2017.4.17 in /usr/local/lib/python3.7/dist-packages (from requests>=2.20->yfinance) (2021.5.30)\n",
            "Requirement already satisfied: urllib3!=1.25.0,!=1.25.1,<1.26,>=1.21.1 in /usr/local/lib/python3.7/dist-packages (from requests>=2.20->yfinance) (1.24.3)\n",
            "Requirement already satisfied: chardet<4,>=3.0.2 in /usr/local/lib/python3.7/dist-packages (from requests>=2.20->yfinance) (3.0.4)\n",
            "Requirement already satisfied: idna<3,>=2.5 in /usr/local/lib/python3.7/dist-packages (from requests>=2.20->yfinance) (2.10)\n",
            "\n",
            "  $_$ $_$ $_$ $_$ $_$ $_$ $_$ $_$ $_$ $_$\n",
            "                Hello world B3\n",
            "[*********************100%***********************]  1 of 1 completed\n",
            "                     Open           High  ...      Adj Close    Volume\n",
            "Date                                      ...                         \n",
            "1993-04-27      24.799999      25.400000  ...      24.500000         0\n",
            "1993-04-28      24.500000      24.600000  ...      24.299999         0\n",
            "1993-04-29      24.299999      24.799999  ...      23.700001         0\n",
            "1993-04-30      23.700001      24.200001  ...      24.100000         0\n",
            "1993-05-03      24.100000      24.400000  ...      24.100000         0\n",
            "...                   ...            ...  ...            ...       ...\n",
            "2021-10-15  113189.000000  114776.000000  ...  114648.000000  11174900\n",
            "2021-10-18  114647.000000  114927.000000  ...  114428.000000  11201300\n",
            "2021-10-19  114422.000000  114422.000000  ...  110673.000000  14129200\n",
            "2021-10-20  110677.000000  112023.000000  ...  110786.000000  11735800\n",
            "2021-10-21  110767.000000  110767.000000  ...  107735.000000  16507700\n",
            "\n",
            "[7044 rows x 6 columns]\n"
          ]
        }
      ]
    },
    {
      "cell_type": "code",
      "metadata": {
        "id": "iue9D4P14-mC"
      },
      "source": [
        ""
      ],
      "execution_count": null,
      "outputs": []
    }
  ]
}